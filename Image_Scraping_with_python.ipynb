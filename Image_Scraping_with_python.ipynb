{
 "cells": [
  {
   "cell_type": "code",
   "execution_count": 1,
   "metadata": {},
   "outputs": [],
   "source": [
    "# Importing Libraries\n",
    "import requests\n",
    "from bs4 import BeautifulSoup\n",
    "import urllib.request\n",
    "import random \n",
    "\n",
    "# Initializing the url\n",
    "url = \"https://www.creativeshrimp.com/top-30-artworks-of-beeple.html\""
   ]
  },
  {
   "cell_type": "code",
   "execution_count": 2,
   "metadata": {},
   "outputs": [
    {
     "name": "stdout",
     "output_type": "stream",
     "text": [
      "https://www.creativeshrimp.com/wp-content/uploads/2015/11/beeple_thumbnail_01_1.jpg\n",
      "https://www.creativeshrimp.com/wp-content/uploads/2015/11/SPORTFUCK.jpg\n",
      "https://www.creativeshrimp.com/wp-content/uploads/2015/11/MCD-2087.jpg\n",
      "https://www.creativeshrimp.com/wp-content/uploads/2015/11/burttn-coper-e1447256280215.jpg\n",
      "https://www.creativeshrimp.com/wp-content/uploads/2015/11/ACRYLIC-DISPERSION.jpg\n",
      "https://www.creativeshrimp.com/wp-content/uploads/2015/11/DEM-CUBES-e1447256293476.jpg\n",
      "https://www.creativeshrimp.com/wp-content/uploads/2015/11/BAF.1981.jpg\n",
      "https://www.creativeshrimp.com/wp-content/uploads/2015/11/EIGHT-YEARS.jpg\n",
      "https://www.creativeshrimp.com/wp-content/uploads/2015/11/ELEVEN.jpg\n",
      "https://www.creativeshrimp.com/wp-content/uploads/2015/11/FLOOR-100.jpg\n",
      "https://www.creativeshrimp.com/wp-content/uploads/2015/11/GOD-FIVE.jpg\n",
      "https://www.creativeshrimp.com/wp-content/uploads/2015/11/heaven-and-hell.jpg\n",
      "https://www.creativeshrimp.com/wp-content/uploads/2015/11/metallurgy.jpg\n",
      "https://www.creativeshrimp.com/wp-content/uploads/2015/11/NUCLEAR-FAMILY.jpg\n",
      "https://www.creativeshrimp.com/wp-content/uploads/2015/11/NUMBER-TWO.jpg\n",
      "https://www.creativeshrimp.com/wp-content/uploads/2015/11/OB.TANK_.jpg\n",
      "https://www.creativeshrimp.com/wp-content/uploads/2015/11/ONE-FOOT.jpg\n",
      "https://www.creativeshrimp.com/wp-content/uploads/2015/11/ONE-MILLION.jpg\n",
      "https://www.creativeshrimp.com/wp-content/uploads/2015/11/recore..jpg\n",
      "https://www.creativeshrimp.com/wp-content/uploads/2015/11/soup-f.jpg\n",
      "https://www.creativeshrimp.com/wp-content/uploads/2015/11/SUPERBUG.jpg\n",
      "https://www.creativeshrimp.com/wp-content/uploads/2015/11/SWEET-TOOTH.jpg\n",
      "https://www.creativeshrimp.com/wp-content/uploads/2015/11/SYSTEMIC-ABERRATION.jpg\n",
      "https://www.creativeshrimp.com/wp-content/uploads/2015/11/T.VARIATIONS.jpg\n",
      "https://www.creativeshrimp.com/wp-content/uploads/2015/11/TEXTRIOUS.jpg\n",
      "https://www.creativeshrimp.com/wp-content/uploads/2015/11/TUNGSTEN.jpg\n",
      "https://www.creativeshrimp.com/wp-content/uploads/2015/11/U1.COMBINER.jpg\n",
      "https://www.creativeshrimp.com/wp-content/uploads/2015/11/VHC.01.jpg\n",
      "https://www.creativeshrimp.com/wp-content/uploads/2015/11/WINTERMIX.jpg\n",
      "https://www.creativeshrimp.com/wp-content/uploads/2015/11/YT.SUN-CITY08.jpg\n",
      "https://www.creativeshrimp.com/wp-content/uploads/2015/11/DAY-3000.jpg\n"
     ]
    }
   ],
   "source": [
    "# Requesting the website for scraping\n",
    "source_code = requests.get(url)\n",
    "plain_text = source_code.text\n",
    "\n",
    "#creating object of BeautifulSoup\n",
    "soup = BeautifulSoup(plain_text)\n",
    "\n",
    "\n",
    "for i in soup.find_all(\"a\",{\"class\":\"lightbox\"}):\n",
    "    href = i.get(\"href\")\n",
    "    print(href)\n",
    "    \n",
    "    #providing the random number to to scraped images\n",
    "    img_name = random.randrange(1,500)\n",
    "    \n",
    "    \n",
    "    # Adding .jpg extension to the image\n",
    "    full_name = str(img_name) + \".jpg\"\n",
    "    \n",
    "    #Saving the scrapped images\n",
    "    urllib.request.urlretrieve(href,full_name)\n",
    "    print(\"loop break\")\n",
    "    "
   ]
  },
  {
   "cell_type": "markdown",
   "metadata": {},
   "source": [
    "### Credit to: url = \"https://www.creativeshrimp.com/top-30-artworks-of-beeple.html\""
   ]
  },
  {
   "cell_type": "markdown",
   "metadata": {},
   "source": [
    "# ------------------------------------------------------Thank You-----------------------------------------"
   ]
  },
  {
   "cell_type": "code",
   "execution_count": null,
   "metadata": {},
   "outputs": [],
   "source": []
  }
 ],
 "metadata": {
  "kernelspec": {
   "display_name": "Python 3",
   "language": "python",
   "name": "python3"
  },
  "language_info": {
   "codemirror_mode": {
    "name": "ipython",
    "version": 3
   },
   "file_extension": ".py",
   "mimetype": "text/x-python",
   "name": "python",
   "nbconvert_exporter": "python",
   "pygments_lexer": "ipython3",
   "version": "3.7.3"
  }
 },
 "nbformat": 4,
 "nbformat_minor": 2
}
